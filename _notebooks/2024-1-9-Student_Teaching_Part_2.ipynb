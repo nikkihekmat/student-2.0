{
 "cells": [
  {
   "cell_type": "markdown",
   "metadata": {},
   "source": [
    "---\n",
    "toc: true\n",
    "comments: true\n",
    "layout: post\n",
    "title: Student Teaching Part 2 + Key Indicators  \n",
    "courses: { compsci: {week: 6} }\n",
    "type: hacks\n",
    "---\n",
    "\n",
    "|                                | Score    | Grader Verification | Extras | Key Indicators: Blog, GitHub File(s) and Key Commits |  \n",
    "| ------------------------------ | -------- | ------------------- | ------ | ---------------------------------------------------- | \n",
    "| The Internet                   |  .98     |   Sri S             | internet research | blog hacks                                |\n",
    "| Routing and Computing          |     1    |   Nikki H           | CB video to learn topic | [my team teach](http://127.0.0.1:4100/nikki-2.0//c4.1/2023/11/27/Routing_and_Computing_IPYNB_2_.html)  |\n",
    "| Beneficial and Harmful Effects |   .93    |   Kaiyu S           | internet research      | [blog hacks](http://127.0.0.1:4100/nikki-2.0//2023/12/05/Benefitial_and_Harmful_IPYNB_2_.html)   |\n",
    "| Digital Divide                 |    1     | Ananya A,  Arushi P | internet research       | blog hacks          |   \n",
    "| Computing Bias                 |    1     |     Jake S          | internet research       | [blog hacks](http://127.0.0.1:4100/nikki-2.0//2023/12/12/ComputerBias_IPYNB_2_.html)  | \n",
    "| Crowdsourcing                  |   1      |    Ankit P          | internet research       | [blog hacks](http://127.0.0.1:4100/nikki-2.0//2023/12/14/Crowdsourcing_teamteach_IPYNB_2_.html) | \n",
    "| Legal Ethical Concerns         |   .94    |     Taj M           | internet research       | [blog hacks](http://127.0.0.1:4100/nikki-2.0//2023/12/14/Ethics_IPYNB_2_.html)    | \n",
    "| Safe Computing                 |  .95     |   Daniel L          | internet research       | [blog hacks](http://127.0.0.1:4100/nikki-2.0//2023/12/21/Safe_Computing_5.6_IPYNB_2_.html)  |\n",
    "| CB Quiz                        | 62/67    |   Lopez             | internet reserach     |   [blog review ticket](http://127.0.0.1:4100/nikki-2.0//2023/12/20/2020MCQ_IPYNB_2_.html)    |\n",
    "|                                |          |                     |                     |                                         |\n",
    "| Totals             | Median Score: .975 | Number complete: 9/9  | Extra effort count: | Key tangible assets count:              | "
   ]
  }
 ],
 "metadata": {
  "language_info": {
   "name": "python"
  },
  "orig_nbformat": 4
 },
 "nbformat": 4,
 "nbformat_minor": 2
}
