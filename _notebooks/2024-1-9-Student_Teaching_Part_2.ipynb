{
 "cells": [
  {
   "cell_type": "markdown",
   "metadata": {},
   "source": [
    "---\n",
    "toc: true\n",
    "comments: true\n",
    "layout: post\n",
    "title: Student Teaching Part 2 + Key Indicators  \n",
    "courses: { compsci: {week: 6} }\n",
    "type: hacks\n",
    "---\n",
    "\n",
    "|                                | Score    | Grader Verification | Extras | Key Indicators: Blog, GitHub File(s) and Key Commits |  \n",
    "| ------------------------------ | -------- | ------------------- | ------ | ---------------------------------------------------- | \n",
    "| The Internet                   |  .98     |   Sri S             | internet research | blog hacks                                |\n",
    "| Routing and Computing          |     1    |   Nikki H           | CB video to learn topic | my team teach                       |\n",
    "| Beneficial and Harmful Effects |   .93    |   Kaiyu S           | internet research      | blog hacks                            |\n",
    "| Digital Divide                 |    1     | Ananya A,  Arushi P | internet research       | blog hacks          |   \n",
    "| Computing Bias                 |    1     |     Jake S          | internet research       | blog hacks                          | \n",
    "| Crowdsourcing                  |   1      |    Ankit P          | internet research       | blog hacks   | \n",
    "| Legal Ethical Concerns         |   .94    |     Taj M           | internet research       | blog hacks                            | \n",
    "| Safe Computing                 |  .95     |   Daniel L          | internet research       | blog hacks                  |\n",
    "| CB Quiz                        | 62/67    |   Lopez             | internet reserach     |   blog review ticket                |\n",
    "|                                |          |                     |                     |                                         |\n",
    "| Totals             | Median Score: .975 | Number complete: 9/9  | Extra effort count: | Key tangible assets count:              | "
   ]
  }
 ],
 "metadata": {
  "language_info": {
   "name": "python"
  },
  "orig_nbformat": 4
 },
 "nbformat": 4,
 "nbformat_minor": 2
}
