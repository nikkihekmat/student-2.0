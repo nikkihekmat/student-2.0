{
 "cells": [
  {
   "cell_type": "markdown",
   "metadata": {},
   "source": [
    "---\n",
    "comments: true\n",
    "layout: post\n",
    "title: Final Project Plan\n",
    "type: hacks\n",
    "courses: { csp: {week: 27} }\n",
    "---"
   ]
  },
  {
   "cell_type": "markdown",
   "metadata": {},
   "source": [
    "Final Project Plan: Nikki and Anika\n",
    "\n",
    "Our plan for our final project is to make an algorithm that relates to our combined Machine Learning project about surviving the Titanic. We will make an algorithm that involves inputting the name of a passenger from the Titanic, and the output will be whether or not that passenger survived the sinking and made it to a lifeboat. Here are the following ways our algorithm will accomdate the project requirements: \n",
    "\n",
    "- Loops (Algorithmic): The constructor of EmergencyResponseSystem sorts the passengers array by name using list comprehension.\n",
    "The displayPassengerGrid method processes the passengers array using the forEach method to display passenger details in a grid format.\n",
    "- Sorting / Searching (Algorithmic): The binarySearch method demonstrates a binary search algorithm for searching passengers by name. The searchPassengerByName method shows searching functionality using the binary search algorithm.\n",
    "- Big(O): currently we don't know how to implement this, but we are brainstorming how to and will likely consult our teacher\n",
    "- 2D Iteration: The displayPassengerGrid method demonstrates 2D iteration as it iterates over the passengers array to display passenger details in a grid format."
   ]
  }
 ],
 "metadata": {
  "language_info": {
   "name": "python"
  },
  "orig_nbformat": 4
 },
 "nbformat": 4,
 "nbformat_minor": 2
}
