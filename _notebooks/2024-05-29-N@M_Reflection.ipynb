{
 "cells": [
  {
   "cell_type": "markdown",
   "metadata": {},
   "source": [
    "---\n",
    "comments: true\n",
    "layout: post\n",
    "title: N@M Reflection\n",
    "type: hacks\n",
    "courses: { csp: {week: 27} }\n",
    "---"
   ]
  },
  {
   "cell_type": "markdown",
   "metadata": {},
   "source": [
    "## Project Description: Titanic Survival Data\n",
    "\n",
    "This HTML code defines a webpage for an \"Emergency Response System\" that manages and displays a list of Titanic passengers. It includes two JavaScript classes: Passenger, which represents individual passengers with properties like name, age, gender, ticket class, and survival status; and EmergencyResponseSystem, which manages a collection of passengers. The system sorts passengers by name, performs binary search to find a passenger by name, checks if a passenger is safe on a lifeboat (based on age, gender, or ticket class), and determines if a passenger survived. It also has a function to display passenger details in a grid format on the webpage. The page features an input field for entering a passenger's name and a button that, when clicked, triggers a search to check if the passenger survived, displaying the result in a designated output area. The system is initialized with a sample dataset of Titanic passengers.\n",
    "\n",
    "![]({{ site.baseurl }}/images/p1.png)\n",
    "\n",
    "![]({{ site.baseurl }}/images/p2.png)"
   ]
  },
  {
   "cell_type": "markdown",
   "metadata": {},
   "source": [
    "## N@M Reflection\n",
    "\n",
    "We had a great time at "
   ]
  }
 ],
 "metadata": {
  "language_info": {
   "name": "python"
  },
  "orig_nbformat": 4
 },
 "nbformat": 4,
 "nbformat_minor": 2
}
