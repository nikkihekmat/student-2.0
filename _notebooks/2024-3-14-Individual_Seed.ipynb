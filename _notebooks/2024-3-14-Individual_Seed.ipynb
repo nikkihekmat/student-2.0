{
 "cells": [
  {
   "cell_type": "markdown",
   "metadata": {},
   "source": [
    "---\n",
    "comments: true\n",
    "layout: notebook\n",
    "title: Individual Seed\n",
    "type: hacks\n",
    "courses: { compsci: {week: 13} }\n",
    "---"
   ]
  },
  {
   "cell_type": "markdown",
   "metadata": {},
   "source": [
    "### Tri 2 Grade over 93% + Collaborated with Team Last Tri\n",
    "\n",
    "![]({{ site.baseurl }}/images/tri2grade.jpg \"Tri 2 Grade\")"
   ]
  },
  {
   "cell_type": "markdown",
   "metadata": {},
   "source": [
    "### Key Commits\n",
    "\n",
    "![]({{ site.baseurl }}/images/commits.png \"Overall Commits\")\n",
    "\n",
    "![]({{ site.baseurl }}/images/backendcommits.png \"Backend Project Commits\")\n",
    "\n",
    "![]({{ site.baseurl }}/images/frontendcommits.png \"Frontend Project Commits\")"
   ]
  },
  {
   "cell_type": "markdown",
   "metadata": {},
   "source": [
    "### CPT Requirements + AP Work\n",
    "\n",
    "I hit all of the CPT requirements for our team's project last trimester. Here is a link to my issue outlining this: https://github.com/nikkihekmat/student-2.0/issues/2"
   ]
  },
  {
   "cell_type": "markdown",
   "metadata": {},
   "source": [
    "### Project/Team Work\n",
    "\n",
    "Our team was very efficient in collaboration last trimester. We set up a group chat to communicate on the project outside of class, joined zoom calls on weekends to finish work, bounced ideas off of each other, and helped each other solve problems when they came up. We never allowed a group member to be behind, which greatly helped us complete our project. \n",
    "\n",
    "Here was our group's ideation from last trimester for ScholarSearch:\n",
    "\n",
    "## ScholarSearch: The Idea\n",
    "\n",
    "This would be a platform in which users could sign in and search for colleges across the world. They would have the ability to rank schools they like and sort them into reach, target, and safety sections according to the data we have linked about the school.\n",
    "\n",
    "## Purpose + Value\n",
    "\n",
    "ScholarSearch aims to make the college application process a little easier by helping students formulate their college list in a fun and easy manner. \n",
    "\n",
    "## Login Page\n",
    "\n",
    "In order to enter our site, you'll need to create an account with a username and password. This will allow you to store data in your account and save the lists that you create. This page will be the first thing you see before you can get into the site.\n",
    "\n",
    "## Ranking System\n",
    "\n",
    "In order to help students sort the colleges into their three lists, our database will record how many students choose certain schools as their reaches, targets, or safties. So if a student sees a school has been chosen 24 times as a safety, they might be able to get a better idea of how they too should sort that school.\n",
    "\n",
    "## Backend/Database\n",
    "\n",
    "Our backend and database would record:\n",
    "\n",
    "1. API: the user-login data\n",
    "2. the different colleges students can choose from and information about them\n",
    "3. how many times a school has been sorted into a specific category m \n",
    "\n",
    "## Frontend Design \n",
    "\n",
    "We'd have one tab to pick colleges, one place to view their list, and another place to change user information (like a profile page).\n",
    "\n",
    "We're also thinking about using more pastel or light-toned colors linked with reducing anxiety, as college applications can be a very stressful process. Making our site more aesthetic would also increase the amount of people who want to use it.\n",
    "\n",
    "## Extra\n",
    "\n",
    "We can have a page on the front when you log in that has the most popular colleges listed, based off of what our users have favorited.\n",
    "\n",
    "## Design \n",
    "\n",
    "![]({{ site.baseurl }}/images/welcomepage.png \"Welcome Page\")\n",
    "\n",
    "![]({{ site.baseurl }}/images/listpage.png \"List Page\")\n",
    "\n",
    "![]({{ site.baseurl }}/images/searchpage.png \"Search Page\")\n",
    "\n"
   ]
  }
 ],
 "metadata": {
  "language_info": {
   "name": "python"
  },
  "orig_nbformat": 4
 },
 "nbformat": 4,
 "nbformat_minor": 2
}
