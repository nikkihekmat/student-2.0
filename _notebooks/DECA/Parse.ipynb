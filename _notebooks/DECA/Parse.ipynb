{
 "cells": [
  {
   "cell_type": "code",
   "execution_count": 316,
   "id": "c9c55e16-a70e-4608-94ad-cf930f31ed47",
   "metadata": {},
   "outputs": [],
   "source": [
    "import pdfplumber"
   ]
  },
  {
   "cell_type": "code",
   "execution_count": 317,
   "id": "a5421efb-2e0b-44c3-8339-f958a165a8f5",
   "metadata": {},
   "outputs": [],
   "source": [
    "fname = 'Data/EntrepreneurshipTest#7.pdf'\n",
    "\n",
    "pdf = pdfplumber.open(fname)"
   ]
  },
  {
   "cell_type": "code",
   "execution_count": 318,
   "id": "ec4cbbe2-dac4-4e9c-a75d-bcf7ba1bfcd7",
   "metadata": {},
   "outputs": [],
   "source": [
    "import re\n",
    "question_start = re.compile(r'^\\d+\\.')\n",
    "choice_start   = re.compile(r'^[A-Z]\\.')\n",
    "choice_split   = re.compile(r' [A-Z]\\. ')\n",
    "\n",
    "def get_questions(page):\n",
    "    questions            = []\n",
    "    current_question     = None\n",
    "    question_in_progress = False\n",
    "    choices              = []\n",
    "\n",
    "    for line in page.extract_text().split(\"\\n\"):\n",
    "        if question_start.match(line):\n",
    "            # This line is a question\n",
    "            # Save the last question so we can start storing this one\n",
    "            if current_question:\n",
    "                # print(f\"\\n\\nQuestion Parsed:\\n{current_question}\\n{choices}\")\n",
    "                questions.append([current_question, sorted(choices)] )\n",
    "            current_question = line\n",
    "            question_in_progress = True\n",
    "            choices = []\n",
    "\n",
    "        elif choice_start.match(line):\n",
    "            question_in_progress = False\n",
    "            # choices = choice_split.split(line)\n",
    "            # choices.extend(line)\n",
    "            c_index = line.find(' C. ')\n",
    "            d_index = line.find(' D. ')\n",
    "            if c_index > 0:\n",
    "                choices.append( line[0:c_index] )   # A choice\n",
    "                choices.append( line[c_index+1:] )  # C choice\n",
    "\n",
    "            elif d_index > 0:\n",
    "                choices.append( line[0:d_index] )   # B choice\n",
    "                choices.append( line[d_index+1:] )  # D choice\n",
    "\n",
    "            else:\n",
    "                choices.append(line)\n",
    "\n",
    "        elif question_in_progress:\n",
    "            current_question = f\"{current_question} {line}\"\n",
    "\n",
    "    if current_question:\n",
    "        questions.append([current_question, sorted(choices)] )\n",
    "\n",
    "    return questions\n",
    "\n",
    "all_questions = []\n",
    "for page in range(1,10):\n",
    "    all_questions.extend( get_questions(pdf.pages[page] ) )\n",
    "\n"
   ]
  },
  {
   "cell_type": "code",
   "execution_count": 319,
   "id": "d45faec0",
   "metadata": {},
   "outputs": [
    {
     "data": {
      "text/plain": [
       "100"
      ]
     },
     "execution_count": 319,
     "metadata": {},
     "output_type": "execute_result"
    }
   ],
   "source": [
    "len(all_questions)"
   ]
  },
  {
   "cell_type": "code",
   "execution_count": 320,
   "id": "365037d0-bf01-4eeb-a5bd-9c40d8291382",
   "metadata": {},
   "outputs": [],
   "source": [
    "key_start      = re.compile(r'^\\d+\\. [A-Z]$')\n",
    "\n",
    "def get_answers(page):\n",
    "    answers = []\n",
    "    for line in page.extract_text().split(\"\\n\"):\n",
    "        if key_start.match(line):\n",
    "            answers.append( line )\n",
    "    return answers\n",
    "\n",
    "all_answers = []\n",
    "for page in range(10,30):\n",
    "    all_answers.extend ( get_answers(pdf.pages[page] ) )\n"
   ]
  },
  {
   "cell_type": "code",
   "execution_count": 321,
   "id": "2c208e5d",
   "metadata": {},
   "outputs": [
    {
     "data": {
      "text/plain": [
       "100"
      ]
     },
     "execution_count": 321,
     "metadata": {},
     "output_type": "execute_result"
    }
   ],
   "source": [
    "len(all_answers)"
   ]
  },
  {
   "cell_type": "markdown",
   "id": "25b6311c-f28e-4508-9092-6276e3fb2368",
   "metadata": {},
   "source": [
    "# Create the CSV\n",
    "\n",
    "* Column A is the type of question: MC (multiple choice) and MR (multiple response). For True/False questions, use MC.\n",
    "* Column B is not used but must be there.\n",
    "* Column C is the point value of the question. It can be between 0-100 and up to two decimal places (3.33)\n",
    "* Column D is the question body. \n",
    "* Column E is the correct answer. The numbers 1-5 each correspond to the one of the possible answers listed in column F-J. Use 1 to indicate a, 2 to indicate b, 3 to indicate c, 4 to indicate d, and 5 to indicate e. For True/False questions, use 1 for True and 0 for False. Clear any unused cells.\n",
    "* Columns F-J are the possible answer choices. You can have 2 or more. "
   ]
  },
  {
   "cell_type": "code",
   "execution_count": 322,
   "id": "3b3a7944-03f8-46f3-b509-db09c2ca2ff2",
   "metadata": {},
   "outputs": [],
   "source": [
    "def make_row(question_and_choices, answer):\n",
    "    question, choices = question_and_choices\n",
    "    # convert the answer to a number: A=1, B=2, C=3, D=4\n",
    "    numerical_answers = {\n",
    "        'A': 1, 'B': 2, 'C': 3, 'D': 4\n",
    "    }\n",
    "    letter_answer = answer[-1]\n",
    "    number_answer = numerical_answers[ letter_answer ]\n",
    "    question = question.split(\" \", 1)[1]  # get rid of the number at the start of the question\n",
    "    row = [\n",
    "        'MC',\n",
    "        '',\n",
    "        '1',\n",
    "        question,\n",
    "        number_answer,\n",
    "        choices[0][3:],\n",
    "        choices[1][3:],\n",
    "        choices[2][3:],\n",
    "        choices[3][3:],\n",
    "    ]\n",
    "    return row"
   ]
  },
  {
   "cell_type": "code",
   "execution_count": 323,
   "id": "24529b80-341b-49f0-b271-ab648f10fed2",
   "metadata": {},
   "outputs": [],
   "source": [
    "csv_rows = []\n",
    "for i in range(len(all_questions)):\n",
    "    csv_rows.append( make_row(all_questions[i], all_answers[i]) )"
   ]
  },
  {
   "cell_type": "markdown",
   "id": "a42ca8b2-e8d4-465e-9b2d-77c43bb9ea1b",
   "metadata": {},
   "source": [
    "# Write the results as CSV"
   ]
  },
  {
   "cell_type": "code",
   "execution_count": 324,
   "id": "b6049f54-d6aa-493d-ade8-dcb843c7c12d",
   "metadata": {},
   "outputs": [],
   "source": [
    "import csv\n",
    "\n",
    "file_name = 'EntrepreneurshipTest#7.csv'\n",
    "\n",
    "with open(file_name, 'w', newline='') as csv_file:\n",
    "    csv_writer = csv.writer(csv_file)\n",
    "    csv_writer.writerows(csv_rows)\n"
   ]
  }
 ],
 "metadata": {
  "kernelspec": {
   "display_name": "Python 3 (ipykernel)",
   "language": "python",
   "name": "python3"
  },
  "language_info": {
   "codemirror_mode": {
    "name": "ipython",
    "version": 3
   },
   "file_extension": ".py",
   "mimetype": "text/x-python",
   "name": "python",
   "nbconvert_exporter": "python",
   "pygments_lexer": "ipython3",
   "version": "3.11.5"
  }
 },
 "nbformat": 4,
 "nbformat_minor": 5
}
