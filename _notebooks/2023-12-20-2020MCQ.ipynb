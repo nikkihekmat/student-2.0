{
 "cells": [
  {
   "cell_type": "markdown",
   "metadata": {},
   "source": [
    "---\n",
    "toc: true\n",
    "comments: false\n",
    "layout: post\n",
    "title: 2020 Pratice MCQ Research and Corrections\n",
    "type: hacks\n",
    "courses: { compsci: {week: 4} }\n",
    "---"
   ]
  },
  {
   "cell_type": "markdown",
   "metadata": {},
   "source": [
    "## 2020 Practice MCQ Research + Notes\n",
    "\n",
    "1. This was simple math. You begin with 2 and add four 3s to the expression because the image said to begin with 2 and repeat 3 four times to yield the variable x.\n",
    "\n",
    "2. A \"citizen science\" approach to analyzing images is useful for a wildfire research project because it's faster to use a distributed group of people than solely the reserach team. \"Citizen science\" involves volunteers in the scientific research process, keeping the public involved and engaged to expedite the research process. There's more manpower and a wider knowledge base to utilize when more people are involved.  \n",
    "    - Link: [Citizen Science - Importance and Benefits](https://maritime-forum.ec.europa.eu/contents/citizen-science-importance-and-benefits_en#:~:text=The%20main%20benefit%20of%20involving,efficient%20ways%20to%20solve%20issues)\n",
    "\n",
    "3. This is simple logic, similar to the math probelem in question (1). The block code is structured in a way to repeat the statement \"red red blue\" 3 times.\n",
    "\n",
    "4. I learned this when we made our binary calculator for the first CPT project of Trimester 2. We had a limit of how many bits the calculator could represent, so very large binary conversions wouldn't show up fully on the calculator because of the bit limit. \n",
    "\n",
    "5. \n"
   ]
  },
  {
   "cell_type": "markdown",
   "metadata": {},
   "source": [
    "## 2020 Practice MCQ Corrections"
   ]
  }
 ],
 "metadata": {
  "language_info": {
   "name": "python"
  },
  "orig_nbformat": 4
 },
 "nbformat": 4,
 "nbformat_minor": 2
}
