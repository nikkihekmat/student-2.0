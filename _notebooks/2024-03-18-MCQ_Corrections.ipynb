{
 "cells": [
  {
   "cell_type": "markdown",
   "metadata": {},
   "source": [
    "---\n",
    "comments: true\n",
    "layout: notebook\n",
    "title: MCQ Corrections\n",
    "type: hacks\n",
    "courses: { compsci: {week: 13} }\n",
    "---"
   ]
  },
  {
   "cell_type": "markdown",
   "metadata": {},
   "source": [
    "## Result Screen Shot\n",
    "\n",
    "![]({{ site.baseurl }}/images/mcqresult.png \"2021 Practice Exam Result\")"
   ]
  },
  {
   "cell_type": "markdown",
   "metadata": {},
   "source": [
    "## Test Corrections/Reflection\n",
    "\n",
    "#### Q17: Remove connections to disconnect devices B and C\n",
    "\n",
    "Correct Answer: (B) Four\n",
    "<br>\n",
    "Wrong Answer: (A) Three\n",
    "\n",
    "My answer was incorrect because removing any three connections would still mean there is one path that devices B and C could use to communicate; I simply missed it in my analysis. For example, if the connections A-C, C-D, and B-D are removed, B and C could still reach each other through B-E-F-C.\n",
    "\n",
    "#### Q22: Code segments that move robot along same path \n",
    "\n",
    "![]({{ site.baseurl }}/images/q22.png \"2021 Practice Exam Result\")\n",
    "\n",
    "My answer was incorrect because the code I chose causes the robot to end in center of the grid and face the bottom.The given code segment dicatates thatsince MOVE_FORWARD is outside the inner loop, the robot moves forward 1 time for each iteration of the outer loop and rotates left count number of times for each iteration of the inner loop. This means that the robot SHOULD follow a path where it ends in the lower-right corner of the grid and faces the top.\n",
    "\n",
    "#### Q42: Iterate over integerList\n",
    "\n",
    "Correct Answer: (A) 3\n",
    "<br>\n",
    "Wrong Answer: (B) 4\n",
    "\n",
    "My answer is wrong because the code segment is counting the number of odd values in the list of integers, not the number of even values. If it was even values the answer would be 4, as there are four even numbers in the list. But since it is counting the amount of odd integers, and there are only three, the answer is 3.\n",
    "\n",
    "#### Q51: Research proposal best suited for citizen science\n",
    "\n",
    "Q: Which of the following research proposals is most likely to be successful as a citizen science project?\n",
    "\n",
    "Correct Answer: (A) Collecting pictures of birds from around the world that can then be analyzed to determine how location affects bird size.\n",
    "<br>\n",
    "Wrong Answer: (C) Using a simulation to determine which one from a set of chemicals causes the most significant change to local animal and plant life.\n",
    "\n",
    "My answer is wrong because a simulation is run on a computer and is not likely to require input from individuals distributed around the world, which is what a citizen project means (aka C doesn't satisfy what a citizen projcet would need).\n",
    "\n",
    "#### Q52: Binary search on list of 128 items\n",
    "\n",
    "Q: A sorted list of numbers contains 128 elements. Which of the following is closest to the maximum number of list elements that can be examined when performing a binary search for a value in the list?\n",
    "\n",
    "Correct Answer: (B) 8\n",
    "<br>\n",
    "Wrong Answer: (C) 64\n",
    "\n",
    "My answer was incorrect because \n",
    "\n",
    "\n",
    "A sorted list of numbers contains 128 elements. Which of the following is closest to the maximum number of list elements that can be examined when performing a binary search for a value in the list?\n",
    "\n",
    "#### Q55: Move element from end of list to beginning\n",
    "\n",
    "#### Q59: Data not provided by user device\n",
    "\n",
    "#### Q60: Benfit of RunRoutr\n",
    "\n",
    "#### Q63: Boolean expression equivalent to table\n",
    "\n",
    "#### Q64: Error in ageGroup procedure\n",
    "\n",
    "#### Q65: Hot and humid conditionals \n",
    "\n",
    "#### Q66: Set bonus points based on timer\n",
    "\n"
   ]
  },
  {
   "cell_type": "markdown",
   "metadata": {},
   "source": [
    "## Popcorn Hacks\n",
    "\n"
   ]
  }
 ],
 "metadata": {
  "language_info": {
   "name": "python"
  },
  "orig_nbformat": 4
 },
 "nbformat": 4,
 "nbformat_minor": 2
}
